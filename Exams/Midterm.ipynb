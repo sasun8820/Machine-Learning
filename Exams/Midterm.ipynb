{
 "cells": [
  {
   "attachments": {},
   "cell_type": "markdown",
   "metadata": {},
   "source": [
    "# Midterm\n",
    "## Name: Jeonseo David Lee (UNI: jl6569)"
   ]
  },
  {
   "attachments": {},
   "cell_type": "markdown",
   "metadata": {},
   "source": [
    "## 1.  Import the spam dataset and print the first six rows.  "
   ]
  },
  {
   "cell_type": "code",
   "execution_count": 309,
   "metadata": {},
   "outputs": [],
   "source": [
    "import pandas as pd\n",
    "import numpy as np\n",
    "import matplotlib.pyplot as plt\n",
    "import seaborn as sns"
   ]
  },
  {
   "cell_type": "code",
   "execution_count": 324,
   "metadata": {},
   "outputs": [
    {
     "data": {
      "text/html": [
       "<div>\n",
       "<style scoped>\n",
       "    .dataframe tbody tr th:only-of-type {\n",
       "        vertical-align: middle;\n",
       "    }\n",
       "\n",
       "    .dataframe tbody tr th {\n",
       "        vertical-align: top;\n",
       "    }\n",
       "\n",
       "    .dataframe thead th {\n",
       "        text-align: right;\n",
       "    }\n",
       "</style>\n",
       "<table border=\"1\" class=\"dataframe\">\n",
       "  <thead>\n",
       "    <tr style=\"text-align: right;\">\n",
       "      <th></th>\n",
       "      <th>word_freq_make:</th>\n",
       "      <th>word_freq_address:</th>\n",
       "      <th>word_freq_all:</th>\n",
       "      <th>word_freq_3d:</th>\n",
       "      <th>word_freq_our:</th>\n",
       "      <th>word_freq_over:</th>\n",
       "      <th>word_freq_remove:</th>\n",
       "      <th>word_freq_internet:</th>\n",
       "      <th>word_freq_order:</th>\n",
       "      <th>word_freq_mail:</th>\n",
       "      <th>...</th>\n",
       "      <th>char_freq_;:</th>\n",
       "      <th>char_freq_(:</th>\n",
       "      <th>char_freq_[:</th>\n",
       "      <th>char_freq_!:</th>\n",
       "      <th>char_freq_$:</th>\n",
       "      <th>char_freq_#:</th>\n",
       "      <th>capital_run_length_average:</th>\n",
       "      <th>capital_run_length_longest:</th>\n",
       "      <th>capital_run_length_total:</th>\n",
       "      <th>spam</th>\n",
       "    </tr>\n",
       "  </thead>\n",
       "  <tbody>\n",
       "    <tr>\n",
       "      <th>0</th>\n",
       "      <td>0.00</td>\n",
       "      <td>0.64</td>\n",
       "      <td>0.64</td>\n",
       "      <td>0.0</td>\n",
       "      <td>0.32</td>\n",
       "      <td>0.00</td>\n",
       "      <td>0.00</td>\n",
       "      <td>0.00</td>\n",
       "      <td>0.00</td>\n",
       "      <td>0.00</td>\n",
       "      <td>...</td>\n",
       "      <td>0.00</td>\n",
       "      <td>0.000</td>\n",
       "      <td>0.0</td>\n",
       "      <td>0.778</td>\n",
       "      <td>0.000</td>\n",
       "      <td>0.000</td>\n",
       "      <td>3.756</td>\n",
       "      <td>61</td>\n",
       "      <td>278</td>\n",
       "      <td>1</td>\n",
       "    </tr>\n",
       "    <tr>\n",
       "      <th>1</th>\n",
       "      <td>0.21</td>\n",
       "      <td>0.28</td>\n",
       "      <td>0.50</td>\n",
       "      <td>0.0</td>\n",
       "      <td>0.14</td>\n",
       "      <td>0.28</td>\n",
       "      <td>0.21</td>\n",
       "      <td>0.07</td>\n",
       "      <td>0.00</td>\n",
       "      <td>0.94</td>\n",
       "      <td>...</td>\n",
       "      <td>0.00</td>\n",
       "      <td>0.132</td>\n",
       "      <td>0.0</td>\n",
       "      <td>0.372</td>\n",
       "      <td>0.180</td>\n",
       "      <td>0.048</td>\n",
       "      <td>5.114</td>\n",
       "      <td>101</td>\n",
       "      <td>1028</td>\n",
       "      <td>1</td>\n",
       "    </tr>\n",
       "    <tr>\n",
       "      <th>2</th>\n",
       "      <td>0.06</td>\n",
       "      <td>0.00</td>\n",
       "      <td>0.71</td>\n",
       "      <td>0.0</td>\n",
       "      <td>1.23</td>\n",
       "      <td>0.19</td>\n",
       "      <td>0.19</td>\n",
       "      <td>0.12</td>\n",
       "      <td>0.64</td>\n",
       "      <td>0.25</td>\n",
       "      <td>...</td>\n",
       "      <td>0.01</td>\n",
       "      <td>0.143</td>\n",
       "      <td>0.0</td>\n",
       "      <td>0.276</td>\n",
       "      <td>0.184</td>\n",
       "      <td>0.010</td>\n",
       "      <td>9.821</td>\n",
       "      <td>485</td>\n",
       "      <td>2259</td>\n",
       "      <td>1</td>\n",
       "    </tr>\n",
       "    <tr>\n",
       "      <th>3</th>\n",
       "      <td>0.00</td>\n",
       "      <td>0.00</td>\n",
       "      <td>0.00</td>\n",
       "      <td>0.0</td>\n",
       "      <td>0.63</td>\n",
       "      <td>0.00</td>\n",
       "      <td>0.31</td>\n",
       "      <td>0.63</td>\n",
       "      <td>0.31</td>\n",
       "      <td>0.63</td>\n",
       "      <td>...</td>\n",
       "      <td>0.00</td>\n",
       "      <td>0.137</td>\n",
       "      <td>0.0</td>\n",
       "      <td>0.137</td>\n",
       "      <td>0.000</td>\n",
       "      <td>0.000</td>\n",
       "      <td>3.537</td>\n",
       "      <td>40</td>\n",
       "      <td>191</td>\n",
       "      <td>1</td>\n",
       "    </tr>\n",
       "    <tr>\n",
       "      <th>4</th>\n",
       "      <td>0.00</td>\n",
       "      <td>0.00</td>\n",
       "      <td>0.00</td>\n",
       "      <td>0.0</td>\n",
       "      <td>0.63</td>\n",
       "      <td>0.00</td>\n",
       "      <td>0.31</td>\n",
       "      <td>0.63</td>\n",
       "      <td>0.31</td>\n",
       "      <td>0.63</td>\n",
       "      <td>...</td>\n",
       "      <td>0.00</td>\n",
       "      <td>0.135</td>\n",
       "      <td>0.0</td>\n",
       "      <td>0.135</td>\n",
       "      <td>0.000</td>\n",
       "      <td>0.000</td>\n",
       "      <td>3.537</td>\n",
       "      <td>40</td>\n",
       "      <td>191</td>\n",
       "      <td>1</td>\n",
       "    </tr>\n",
       "    <tr>\n",
       "      <th>5</th>\n",
       "      <td>0.00</td>\n",
       "      <td>0.00</td>\n",
       "      <td>0.00</td>\n",
       "      <td>0.0</td>\n",
       "      <td>1.85</td>\n",
       "      <td>0.00</td>\n",
       "      <td>0.00</td>\n",
       "      <td>1.85</td>\n",
       "      <td>0.00</td>\n",
       "      <td>0.00</td>\n",
       "      <td>...</td>\n",
       "      <td>0.00</td>\n",
       "      <td>0.223</td>\n",
       "      <td>0.0</td>\n",
       "      <td>0.000</td>\n",
       "      <td>0.000</td>\n",
       "      <td>0.000</td>\n",
       "      <td>3.000</td>\n",
       "      <td>15</td>\n",
       "      <td>54</td>\n",
       "      <td>1</td>\n",
       "    </tr>\n",
       "  </tbody>\n",
       "</table>\n",
       "<p>6 rows × 58 columns</p>\n",
       "</div>"
      ],
      "text/plain": [
       "   word_freq_make:  word_freq_address:  word_freq_all:  word_freq_3d:  \\\n",
       "0             0.00                0.64            0.64            0.0   \n",
       "1             0.21                0.28            0.50            0.0   \n",
       "2             0.06                0.00            0.71            0.0   \n",
       "3             0.00                0.00            0.00            0.0   \n",
       "4             0.00                0.00            0.00            0.0   \n",
       "5             0.00                0.00            0.00            0.0   \n",
       "\n",
       "   word_freq_our:  word_freq_over:  word_freq_remove:  word_freq_internet:  \\\n",
       "0            0.32             0.00               0.00                 0.00   \n",
       "1            0.14             0.28               0.21                 0.07   \n",
       "2            1.23             0.19               0.19                 0.12   \n",
       "3            0.63             0.00               0.31                 0.63   \n",
       "4            0.63             0.00               0.31                 0.63   \n",
       "5            1.85             0.00               0.00                 1.85   \n",
       "\n",
       "   word_freq_order:  word_freq_mail:  ...  char_freq_;:  char_freq_(:  \\\n",
       "0              0.00             0.00  ...          0.00         0.000   \n",
       "1              0.00             0.94  ...          0.00         0.132   \n",
       "2              0.64             0.25  ...          0.01         0.143   \n",
       "3              0.31             0.63  ...          0.00         0.137   \n",
       "4              0.31             0.63  ...          0.00         0.135   \n",
       "5              0.00             0.00  ...          0.00         0.223   \n",
       "\n",
       "   char_freq_[:  char_freq_!:  char_freq_$:  char_freq_#:  \\\n",
       "0           0.0         0.778         0.000         0.000   \n",
       "1           0.0         0.372         0.180         0.048   \n",
       "2           0.0         0.276         0.184         0.010   \n",
       "3           0.0         0.137         0.000         0.000   \n",
       "4           0.0         0.135         0.000         0.000   \n",
       "5           0.0         0.000         0.000         0.000   \n",
       "\n",
       "   capital_run_length_average:  capital_run_length_longest:  \\\n",
       "0                        3.756                           61   \n",
       "1                        5.114                          101   \n",
       "2                        9.821                          485   \n",
       "3                        3.537                           40   \n",
       "4                        3.537                           40   \n",
       "5                        3.000                           15   \n",
       "\n",
       "   capital_run_length_total:  spam  \n",
       "0                        278     1  \n",
       "1                       1028     1  \n",
       "2                       2259     1  \n",
       "3                        191     1  \n",
       "4                        191     1  \n",
       "5                         54     1  \n",
       "\n",
       "[6 rows x 58 columns]"
      ]
     },
     "execution_count": 324,
     "metadata": {},
     "output_type": "execute_result"
    }
   ],
   "source": [
    "data = pd.read_csv(\"spam_dataset.csv\")\n",
    "data.head(6) \n",
    "# data.columns\n",
    "# word_freq_remove, word_freq_free, char_freq_! "
   ]
  },
  {
   "attachments": {},
   "cell_type": "markdown",
   "metadata": {},
   "source": [
    "## 2.  Read through the documentation of the original dataset here: The dependent variable is \"spam\" where one indicates that an email is spam and zero otherwise.  Which three variables in the dataset do you think will be important predictors in a model of spam?  Why?\n",
    "\n",
    "\n",
    "http://archive.ics.uci.edu/ml/machine-learning-databases/spambase/spambase.names\n"
   ]
  },
  {
   "attachments": {},
   "cell_type": "markdown",
   "metadata": {},
   "source": [
    "- ### In order to construct a machine learning model capable of discerning the spam status of an email, I considered the features that could be indicative of what's on a typical spam message. Although the prompt defines spam in a wide range of topics, including make money fast schemes, pornography, advertisements for products or websites, and chain letters, they all share a common objective: to increase sales through the use of strong, alluring language. From this perspective, I considered including the word \"remove\" as one of the indicators, given that fraudsters might employ it to direct recipients to unsubscribe from a mailing list. In addition, the word \"free\" may be acceptable, as it is a strong indicator of spam that attempts to persuade recipients with free products/subscriptions/services for a limited time or a free trial. Lastly, it appears that the character \"!\" is quite significant, given that spam emails frequently contain an inordinate number of exclamation marks, which are frequently employed to attract the attention of the recipient. Based on the aforementioned justifications, I selected the following three independent variables to represent the dependent variable \"spam\": [\"char_freq_! \", \"word_freq_remove,\" and \"word_freq_free.\"].These variables correspond to the corresponding characters and words in terms of percentage.\n",
    "\n"
   ]
  },
  {
   "attachments": {},
   "cell_type": "markdown",
   "metadata": {},
   "source": [
    "## 3.  Visualize the univariate distribution of each of the variables in the previous question.  \n"
   ]
  },
  {
   "attachments": {},
   "cell_type": "markdown",
   "metadata": {},
   "source": [
    "### <1st. Variable \"word_freq_remove:\">\n",
    "#### With the intention of improving readability, I set the x-limit to 10 since the maximum percentage of the word \"remove\" is within 10%."
   ]
  },
  {
   "cell_type": "code",
   "execution_count": 325,
   "metadata": {},
   "outputs": [
    {
     "data": {
      "text/plain": [
       "count    4601.000000\n",
       "mean        0.114208\n",
       "std         0.391441\n",
       "min         0.000000\n",
       "25%         0.000000\n",
       "50%         0.000000\n",
       "75%         0.000000\n",
       "max         7.270000\n",
       "Name: word_freq_remove:, dtype: float64"
      ]
     },
     "execution_count": 325,
     "metadata": {},
     "output_type": "execute_result"
    }
   ],
   "source": [
    "data['word_freq_remove:'].describe()"
   ]
  },
  {
   "cell_type": "code",
   "execution_count": 352,
   "metadata": {},
   "outputs": [
    {
     "data": {
      "image/png": "[encoded data removed]",
      "text/plain": [
       "<Figure size 640x480 with 1 Axes>"
      ]
     },
     "metadata": {},
     "output_type": "display_data"
    }
   ],
   "source": [
    "import matplotlib.pyplot as plt\n",
    "\n",
    "# Assuming char_freq_CHAR contains your data\n",
    "plt.hist(data['word_freq_remove:'], bins=10, range=(0, 10))\n",
    "plt.xlabel('% of the Word \"Remove\"')\n",
    "plt.ylabel('Frequency')\n",
    "plt.title('Histogram: [word_freq_remove:]')\n",
    "plt.xlim(0, 10)  # Set the x-axis limits to the specified range [0, 100]\n",
    "plt.grid(True, linestyle='--', alpha=0.7)\n",
    "plt.show()"
   ]
  },
  {
   "attachments": {},
   "cell_type": "markdown",
   "metadata": {},
   "source": [
    "### <2nd Variable: \"word_freq_free:>\n",
    "#### With the intention of improving readability, I set the x-limit to 20 since the maximum percentage of the word \"free\" is within 20%."
   ]
  },
  {
   "cell_type": "code",
   "execution_count": 327,
   "metadata": {},
   "outputs": [
    {
     "data": {
      "text/plain": [
       "count    4601.000000\n",
       "mean        0.248848\n",
       "std         0.825792\n",
       "min         0.000000\n",
       "25%         0.000000\n",
       "50%         0.000000\n",
       "75%         0.100000\n",
       "max        20.000000\n",
       "Name: word_freq_free:, dtype: float64"
      ]
     },
     "execution_count": 327,
     "metadata": {},
     "output_type": "execute_result"
    }
   ],
   "source": [
    "data['word_freq_free:'].describe()"
   ]
  },
  {
   "cell_type": "code",
   "execution_count": 353,
   "metadata": {},
   "outputs": [
    {
     "data": {
      "image/png": "[encoded data removed]",
      "text/plain": [
       "<Figure size 640x480 with 1 Axes>"
      ]
     },
     "metadata": {},
     "output_type": "display_data"
    }
   ],
   "source": [
    "plt.hist(data['word_freq_free:'], bins=10, range=(0, 20))\n",
    "plt.xlabel('% of the Word \"Free\"')\n",
    "plt.ylabel('Frequency')\n",
    "plt.title('Histogram: [word_freq_free:]')\n",
    "plt.xlim(0, 20) \n",
    "plt.grid(True, linestyle='--', alpha=0.7)\n",
    "plt.show()"
   ]
  },
  {
   "attachments": {},
   "cell_type": "markdown",
   "metadata": {},
   "source": [
    "### <3rd Variable: \"char_freq_!:>\n",
    "#### With the intention of improving readability, I set the x-limit to 40 since the maximum percentage of the word \"free\" is within 40% as approxmiately 32%."
   ]
  },
  {
   "cell_type": "code",
   "execution_count": 329,
   "metadata": {},
   "outputs": [
    {
     "data": {
      "text/plain": [
       "count    4601.000000\n",
       "mean        0.269071\n",
       "std         0.815672\n",
       "min         0.000000\n",
       "25%         0.000000\n",
       "50%         0.000000\n",
       "75%         0.315000\n",
       "max        32.478000\n",
       "Name: char_freq_!:, dtype: float64"
      ]
     },
     "execution_count": 329,
     "metadata": {},
     "output_type": "execute_result"
    }
   ],
   "source": [
    "data['char_freq_!:'].describe()"
   ]
  },
  {
   "cell_type": "code",
   "execution_count": 354,
   "metadata": {},
   "outputs": [
    {
     "data": {
      "image/png": "[encoded data removed]",
      "text/plain": [
       "<Figure size 640x480 with 1 Axes>"
      ]
     },
     "metadata": {},
     "output_type": "display_data"
    }
   ],
   "source": [
    "plt.hist(data['char_freq_!:'], bins=10, range=(0, 40))\n",
    "plt.xlabel('% of the Character \"!\"')\n",
    "plt.ylabel('Frequency')\n",
    "plt.title('Histogram: [char_freq_!]')\n",
    "plt.xlim(0, 40) \n",
    "plt.grid(True, linestyle='--', alpha=0.7)\n",
    "plt.show()"
   ]
  },
  {
   "attachments": {},
   "cell_type": "markdown",
   "metadata": {},
   "source": [
    "## 4. Name each of the supervised learning models that we have learned thus far that are used to predict dependent variables like \"spam\".   \n"
   ]
  },
  {
   "attachments": {},
   "cell_type": "markdown",
   "metadata": {},
   "source": [
    "- ### Given that the target variable is categorical, the supervised learning model that is specifically designed for \"classification\" problems should be considered. We worked on several notable classifier models in class, including the KNN Classifier, unpenalized logistic regression, penalized logistic regression (Ridge/Lasso), SVM, and RandomForestClassifier."
   ]
  },
  {
   "attachments": {},
   "cell_type": "markdown",
   "metadata": {},
   "source": [
    "## 5. Describe the importance of training and test data.  Why do we separate data into these subsets?\n",
    "\n"
   ]
  },
  {
   "attachments": {},
   "cell_type": "markdown",
   "metadata": {},
   "source": [
    "- ### Particularly for supervised machine learning models, in which a trained model is required to make predictions on unseen data, the separation of training and test datasets is critical. Moreover, by separating the data into training and test datasets, we can mitigate the risk of overfitting and ensure that we do not spend all of our resources on training data that lacks generalizability and is only therefore sutiable for specific cases. In order to determine the \"optimized\" hyperparameters for each model, it is also necessary to evaluate the performance of each trained model on the test dataset; this will provide us with a more comprehensive understanding of the different machine learning models."
   ]
  },
  {
   "attachments": {},
   "cell_type": "markdown",
   "metadata": {},
   "source": [
    "## 6. What is k-fold cross validation and what do we use it for?"
   ]
  },
  {
   "attachments": {},
   "cell_type": "markdown",
   "metadata": {},
   "source": [
    "- ### K-fold cross validation is an essential part during model training; it is utilized to evaluate the model's performance and generalizability. The process involves dividing the trained data into \"k\" subsets, with distinct test and training data for each subset. Subsequently, the model undergoes \"k\" iterations of testing, with each iteration utilizing a different dataset. The performance of the model is then assessed using a performance metric, which for regression models is typically the mean square error (MSE) or R^2, whereas for classification problems it may be accuracy score, f-1 score, or the ROC curve. This evaluation ensures that the model's performance is not reliant on a particular random subset of the data.\n",
    "\n"
   ]
  },
  {
   "attachments": {},
   "cell_type": "markdown",
   "metadata": {},
   "source": [
    "## 7. How is k-fold cross validation different from stratified k-fold cross validation?"
   ]
  },
  {
   "attachments": {},
   "cell_type": "markdown",
   "metadata": {},
   "source": [
    "- ### K-fold cross validation involves dividing the data into \"k\" equal-sized subsets. Though stratified k-fold cross validation also continues to partition data into \"k\" subsets, it distinguishes itself by preserving the \"identical class distribution\" for each fold as in the original dataset. It aids in guaranteeing that the distribution of each class (dependent variable) remains consistent throughout each iteration of the model. Stratified cross validation is more useful to employ in situations where the target variable exhibits class imbalance due to this characteristic. For example, in the case where the target variable contains an abnormally high quantity of a specific class label, the data may not be distributed equally in the model via the normal k-fold cross validation. This inequitable distribution may result in a less precise depiction of the model's performance."
   ]
  },
  {
   "cell_type": "code",
   "execution_count": 331,
   "metadata": {},
   "outputs": [],
   "source": [
    "from sklearn.model_selection import KFold\n",
    "from sklearn.model_selection import train_test_split, cross_val_score\n",
    "from sklearn.neighbors import KNeighborsClassifier\n",
    "from sklearn.model_selection import GridSearchCV, StratifiedKFold\n",
    "from sklearn.metrics import r2_score\n",
    "from sklearn.metrics import accuracy_score\n",
    "from sklearn.metrics import mean_squared_error\n",
    "from sklearn.model_selection import cross_val_score\n",
    "from sklearn import preprocessing\n"
   ]
  },
  {
   "attachments": {},
   "cell_type": "markdown",
   "metadata": {},
   "source": [
    "## Split into Train and Test Datasets"
   ]
  },
  {
   "cell_type": "code",
   "execution_count": 332,
   "metadata": {},
   "outputs": [],
   "source": [
    "X = data.loc[:, ['word_freq_remove:', 'word_freq_free:', 'char_freq_!:']]\n",
    "y = data['spam']\n",
    "X_train, X_test, y_train, y_test = train_test_split(X, y, test_size=0.2, random_state=42)"
   ]
  },
  {
   "attachments": {},
   "cell_type": "markdown",
   "metadata": {},
   "source": [
    "## 8. Choose one model from question four.  Split the data into training and test subsets.  Build a model with the three variables in the dataset that you think will be good predictors of \"spam\".  Describe why you chose any particular parameters for your model (e.g.- if you used KNN how did you decide to choose a specific value for k).  Run the model and evaluate prediction error in two ways: A) On test data directly and B) using k-fold cross-validation.  "
   ]
  },
  {
   "attachments": {},
   "cell_type": "markdown",
   "metadata": {},
   "source": [
    "## KNN Classifier\n",
    "\n",
    "- ### I intend to establish the following three independent variables ['word_freq_remove:', 'word_freq_free:', 'char_freq_!:'] in the X set with'spam' as the target variable in the Y set. \n",
    "\n",
    "- ### The parameter 'n_neighbor', denoting the quantity of neighbors to be taken into account, could be specified for the KNN classifier model. Generally speaking, an odd number should be favored in order to prevent conflicts, as this is the most crucial hyperparameter for KNN.\n",
    "\n",
    "- ### At first, for a) the direct testing, I found the accuracy score by applying the method directly to the test dataset without implementing K-fold cross-validation. It generates the smaller accuracy score as 0.8458 than the optimal model we computed from the part b) in gridsearchcv. \n",
    "\n",
    "- ### In part b) Gridsearchcv now has its optimal n_neighbor parameter set to 15, and the test-set accuracy score has increased marginally from 0.8458 to 0.8512, as anticipated by the hyperparameters activating gridsearchcv using 5 k-fold divisions. \n",
    "\n",
    "- ### Therefore, this would lead us to the conclusion that cross-validation does, in fact, improve accuracy.\n",
    " "
   ]
  },
  {
   "attachments": {},
   "cell_type": "markdown",
   "metadata": {},
   "source": [
    "### a) Direct Testing\n"
   ]
  },
  {
   "cell_type": "code",
   "execution_count": 333,
   "metadata": {},
   "outputs": [
    {
     "name": "stdout",
     "output_type": "stream",
     "text": [
      "Test-Set Accuracy Score: 0.8458\n"
     ]
    }
   ],
   "source": [
    "scaler = preprocessing.StandardScaler()\n",
    "X_train_scaled = scaler.fit_transform(X_train)\n",
    "X_test_scaled = scaler.transform(X_test)\n",
    "\n",
    "knn_classifier = KNeighborsClassifier()\n",
    "\n",
    "knn_classifier.fit(X_train_scaled, y_train)\n",
    "\n",
    "y_pred = knn_classifier.predict(X_test_scaled)\n",
    "\n",
    "# Evaluate the model's accuracy on the test dataset\n",
    "accuracy = accuracy_score(y_test, y_pred)\n",
    "print(f\"Test-Set Accuracy Score: {accuracy:.4f}\")\n"
   ]
  },
  {
   "attachments": {},
   "cell_type": "markdown",
   "metadata": {},
   "source": [
    "### b) GridsearchCV (K-Fold: 5)"
   ]
  },
  {
   "cell_type": "code",
   "execution_count": 334,
   "metadata": {},
   "outputs": [
    {
     "name": "stdout",
     "output_type": "stream",
     "text": [
      "Best Logistic Regression Parameters: {'n_neighbors': 15}\n",
      "Training-Set Accuracy Score: 0.8625\n",
      "Test-Set Accuracy Score: 0.8512\n"
     ]
    }
   ],
   "source": [
    "knn_param_grid = {\n",
    "    'n_neighbors': [1, 3, 5, 7, 9, 11, 13, 15]\n",
    "}\n",
    "\n",
    "kf = KFold(n_splits=5)\n",
    "# stratified_cv = StratifiedKFold(n_splits=5, shuffle=True, random_state=42)\n",
    "\n",
    "knn_grid_search = GridSearchCV(knn_classifier, knn_param_grid, cv=kf, scoring='accuracy')\n",
    "\n",
    "knn_grid_search.fit(X_train_scaled, y_train)\n",
    "\n",
    "best_knn_params = knn_grid_search.best_params_\n",
    "train_accuracy = knn_grid_search.score(X_train_scaled, y_train)\n",
    "test_accuracy = knn_grid_search.score(X_test_scaled, y_test)\n",
    "\n",
    "print(\"Best Logistic Regression Parameters:\", best_knn_params)\n",
    "print(f\"Training-Set Accuracy Score: {train_accuracy:.4f}\")\n",
    "print(f\"Test-Set Accuracy Score: {test_accuracy:.4f}\")"
   ]
  },
  {
   "attachments": {},
   "cell_type": "markdown",
   "metadata": {},
   "source": [
    "## 9. Choose a second model from question four.  Using the same three variables in the dataset that you think will be good predictors of \"spam\".  Describe why you chose any particular parameters for your model (e.g.- if you used KNN how did you decide to choose a specific value for k).  Run the model and evaluate prediction error in two ways: A) On test data directly and B) using k-fold cross-validation.  Did this model predict test data better than your previous model?\n",
    "\n"
   ]
  },
  {
   "attachments": {},
   "cell_type": "markdown",
   "metadata": {},
   "source": [
    "## Unpenalized Logistic Regression\n",
    "\n",
    "- ### We could also use the unpenalized logistic regression model for the second model. Logistic regression returns the probability that a given set of data belongs to a specific class or category by applying the maximum likelihood principle. This characteristic makes logistic regression an effective model for the binary classification tasks that we are presently engaged in. \n",
    "\n",
    "- ### Initially, in part a), I omitted the K-fold cross validation and computed the accuracy score by applying the method directly to the test dataset. The accuracy score of 0.8078 is comparatively lower than the previous score of KNN Classifier. \n",
    "\n",
    "- ### The main parameters I sought to identify using gridsearch were 'class_weight' and'max_iter'. The logistic regression model automatically modifies the weights allocated to each class in accordance with the number of samples in that class, provided that the class_weight is in equilibrium. The term \"max_iter\" simply denotes the maximum number of iterations that should be performed by the logistic regression model in order to converge the solution. The optimal values for those parameters computed from gridsearchCV are 'class_weight': 'balanced' and'max_iter': 100, and the model achieved an improved accuracy score of 0.8360 on the test set. However, irrespective of the utilization of gridsearch or not, the unpenalized logistic regression consistently yields lower accuracy scores in comparison to the KNN Classifier. \n",
    " "
   ]
  },
  {
   "attachments": {},
   "cell_type": "markdown",
   "metadata": {},
   "source": [
    "### a) Direct Testing"
   ]
  },
  {
   "cell_type": "code",
   "execution_count": 335,
   "metadata": {},
   "outputs": [
    {
     "name": "stdout",
     "output_type": "stream",
     "text": [
      "Test-Set Accuracy Score: 0.8078\n"
     ]
    }
   ],
   "source": [
    "from sklearn.linear_model import LogisticRegression\n",
    "\n",
    "logistic_regression = LogisticRegression(penalty=None)\n",
    "\n",
    "logistic_regression.fit(X_train_scaled, y_train)\n",
    "\n",
    "y_pred = logistic_regression.predict(X_test_scaled)\n",
    "\n",
    "# Evaluate the model's accuracy on the test dataset\n",
    "accuracy = accuracy_score(y_test, y_pred)\n",
    "\n",
    "print(f\"Test-Set Accuracy Score: {accuracy:.4f}\")"
   ]
  },
  {
   "attachments": {},
   "cell_type": "markdown",
   "metadata": {},
   "source": [
    "### b) GridSearchCV (K-Fold: 5)"
   ]
  },
  {
   "cell_type": "code",
   "execution_count": 336,
   "metadata": {},
   "outputs": [
    {
     "name": "stdout",
     "output_type": "stream",
     "text": [
      "Best Logistic Regression Parameters: {'class_weight': 'balanced', 'max_iter': 100}\n",
      "Training-Set Accuracy Score: 0.8283\n",
      "Test-Set Accuracy Score: 0.8360\n"
     ]
    }
   ],
   "source": [
    "logistic_param_grid = {\n",
    "    'max_iter': [100, 1000, 10000, 100000],\n",
    "    'class_weight': [None, 'balanced']\n",
    "}\n",
    "\n",
    "logistic_regression = LogisticRegression(penalty=None)\n",
    "\n",
    "kf = KFold(n_splits=5)\n",
    "\n",
    "logistic_grid_search = GridSearchCV(logistic_regression, logistic_param_grid, cv=kf, scoring='accuracy')\n",
    "\n",
    "logistic_grid_search.fit(X_train_scaled, y_train)\n",
    "\n",
    "best_logistic_params = logistic_grid_search.best_params_\n",
    "train_accuracy = logistic_grid_search.score(X_train_scaled, y_train)\n",
    "test_accuracy = logistic_grid_search.score(X_test_scaled, y_test)\n",
    "\n",
    "print(\"Best Logistic Regression Parameters:\", best_logistic_params)\n",
    "print(f\"Training-Set Accuracy Score: {train_accuracy:.4f}\")\n",
    "print(f\"Test-Set Accuracy Score: {test_accuracy:.4f}\")"
   ]
  },
  {
   "attachments": {},
   "cell_type": "markdown",
   "metadata": {},
   "source": [
    "## 10. Choose a third model from question four.  Using the same three variables in the dataset that you think will be good predictors of \"spam\".  Describe why you chose any particular parameters for your model (e.g.- if you used KNN how did you decide to choose a specific value for k). Run the model and evaluate prediction error in two ways: A) On test data directly and B) using k-fold cross-validation.  Did this model predict test data better than your previous models?"
   ]
  },
  {
   "attachments": {},
   "cell_type": "markdown",
   "metadata": {},
   "source": [
    "## Ridge-Penalized Logistic Regression\n",
    "\n",
    "- ### The ridge-penalized logistic regression model could be implemented as the third model. Ridge refers to one of the regularization model where now it has more regularization terms like C. \n",
    "\n",
    "- ### Initial K-fold cross-validation was omitted from a) as well; the accuracy score was determined by applying the model directly to the test dataset. 0.8078 is its accuracy rating.\n",
    "\n",
    "- ### I subsequently used \"C\" and \"Solver\" as the primary gridsearch parameters in addition to \"class_weight\" and \"max_iter.\" In order to reduce overfitting and simplify coefficients, the \"C\" parameter indicates the intensity of regularization; a smaller value of C indicates more robust regularization. Utilizing the \"Solver\" function to adapt the model to the data resolves the optimization problem. As predicted, the accuracy score of the model has increased from 0.8078 to 0.8339 after the optimal parameters are computed from the gridsearch result: 'C': 10, 'class_weight': 'balanced','max_iter': 100,'solver': 'lbfgs'. Nevertheless, its results remain inferior to those of the two preceding models. \n",
    "\n"
   ]
  },
  {
   "attachments": {},
   "cell_type": "markdown",
   "metadata": {},
   "source": [
    "### a) Direct Testing "
   ]
  },
  {
   "cell_type": "code",
   "execution_count": 337,
   "metadata": {},
   "outputs": [
    {
     "name": "stdout",
     "output_type": "stream",
     "text": [
      "Test-Set Accuracy Score: 0.8078\n"
     ]
    }
   ],
   "source": [
    "from sklearn.linear_model import LogisticRegression\n",
    "\n",
    "ridge = LogisticRegression(penalty='l2')\n",
    "\n",
    "ridge.fit(X_train_scaled, y_train)\n",
    "\n",
    "y_pred = ridge.predict(X_test_scaled)\n",
    "\n",
    "# Evaluate the model's accuracy on the test dataset\n",
    "accuracy = accuracy_score(y_test, y_pred)\n",
    "\n",
    "print(f\"Test-Set Accuracy Score: {accuracy:.4f}\")"
   ]
  },
  {
   "attachments": {},
   "cell_type": "markdown",
   "metadata": {},
   "source": [
    "### b) GridSearchCV (K-Fold: 5)"
   ]
  },
  {
   "cell_type": "code",
   "execution_count": 338,
   "metadata": {},
   "outputs": [
    {
     "name": "stdout",
     "output_type": "stream",
     "text": [
      "Best Logistic Regression Parameters: {'C': 1, 'class_weight': 'balanced', 'max_iter': 100, 'solver': 'lbfgs'}\n",
      "Training-Set Accuracy Score: 0.8280\n",
      "Test-Set Accuracy Score: 0.8339\n"
     ]
    }
   ],
   "source": [
    "penalized_logistic_param_grid = {\n",
    "    'C': [0.001, 0.01, 0.1, 1, 10, 100],\n",
    "    'max_iter': [100, 1000, 10000, 100000],\n",
    "    'solver': ['lbfgs', 'newton-cg'],\n",
    "    'class_weight': [None, 'balanced']\n",
    "}\n",
    "\n",
    "ridge = LogisticRegression(penalty='l2')\n",
    "\n",
    "kf = KFold(n_splits=5)\n",
    "\n",
    "ridge_gridsearch = GridSearchCV(ridge, penalized_logistic_param_grid, cv=kf, scoring='accuracy')\n",
    "\n",
    "ridge_gridsearch.fit(X_train_scaled, y_train)\n",
    "\n",
    "best_logistic_params = ridge_gridsearch.best_params_\n",
    "train_accuracy = ridge_gridsearch.score(X_train_scaled, y_train)\n",
    "test_accuracy = ridge_gridsearch.score(X_test_scaled, y_test)\n",
    "\n",
    "print(\"Best Logistic Regression Parameters:\", best_logistic_params)\n",
    "print(f\"Training-Set Accuracy Score: {train_accuracy:.4f}\")\n",
    "print(f\"Test-Set Accuracy Score: {test_accuracy:.4f}\")"
   ]
  },
  {
   "attachments": {},
   "cell_type": "markdown",
   "metadata": {},
   "source": [
    "## 11. Choose a fourth model from question four.  Using the same three variables in the dataset that you think will be good predictors of \"spam\".  Describe why you chose any particular parameters for your model (e.g.- if you used KNN how did you decide to choose a specific value for k). Run the model and evaluate prediction error in two ways: A) On test data directly and B) using k-fold cross-validation. Evaluate prediction error, did this model predict better than your previous models?"
   ]
  },
  {
   "attachments": {},
   "cell_type": "markdown",
   "metadata": {},
   "source": [
    "## Lasso-Penalized Logistic Regression\n",
    "\n",
    "- ### As the final model, I used another penalized logistic regression model, which is Lasso. The Lasso model differs from the Ridge model in that it can now set variable coefficients to exactly zero, making it more practical for variable selection. \n",
    "\n",
    "- ### Additionally, initial K-fold cross-validation was excluded from a); the accuracy score was calculated by explicitly applying the model to the test dataset. It has an accuracy rating of 0.8078.\n",
    "\n",
    "- ### The parameters I set for the gridsearchCV model are nearly identical to those of the Ridge model, with the exception that the'solver' parameter for Lasso is rarely used, which leads to a clash in the system as coordinate descent or gradient descent algorithms are frequently employed to solve Lasso regression. It is therefore concluded that the optimal parameters for Lasso are {'C': 1, 'class_weight': 'balanced,' and'max_iter': 100}. This results in an improved accuracy of 0.8339, although it remains the smallest similar to the Ridge model."
   ]
  },
  {
   "attachments": {},
   "cell_type": "markdown",
   "metadata": {},
   "source": [
    "### a) Direct Testing"
   ]
  },
  {
   "cell_type": "code",
   "execution_count": 339,
   "metadata": {},
   "outputs": [
    {
     "name": "stdout",
     "output_type": "stream",
     "text": [
      "Test-Set Accuracy Score: 0.8078\n"
     ]
    }
   ],
   "source": [
    "from sklearn.linear_model import LogisticRegression\n",
    "\n",
    "lasso = LogisticRegression(penalty='l1', solver='liblinear')\n",
    "\n",
    "lasso.fit(X_train_scaled, y_train)\n",
    "\n",
    "y_pred = lasso.predict(X_test_scaled)\n",
    "\n",
    "# Evaluate the model's accuracy on the test dataset\n",
    "accuracy = accuracy_score(y_test, y_pred)\n",
    "\n",
    "print(f\"Test-Set Accuracy Score: {accuracy:.4f}\")"
   ]
  },
  {
   "attachments": {},
   "cell_type": "markdown",
   "metadata": {},
   "source": [
    "### b) GridSearchCV (K-Fold: 5)"
   ]
  },
  {
   "cell_type": "code",
   "execution_count": 340,
   "metadata": {},
   "outputs": [
    {
     "name": "stdout",
     "output_type": "stream",
     "text": [
      "Best Logistic Regression Parameters: {'C': 1, 'class_weight': 'balanced', 'max_iter': 100}\n",
      "Training-Set Accuracy Score: 0.8283\n",
      "Test-Set Accuracy Score: 0.8339\n"
     ]
    }
   ],
   "source": [
    "penalized_logistic_param_grid = {\n",
    "    'C': [0.001, 0.01, 0.1, 1, 10, 100],\n",
    "    'max_iter': [100, 1000, 10000, 100000],\n",
    "    'class_weight': [None, 'balanced']\n",
    "}\n",
    "\n",
    "lasso = LogisticRegression(penalty='l1', solver='liblinear')\n",
    "\n",
    "kf = KFold(n_splits=5)\n",
    "\n",
    "lasso_gridsearch = GridSearchCV(lasso, penalized_logistic_param_grid, cv=kf, scoring='accuracy')\n",
    "\n",
    "lasso_gridsearch.fit(X_train_scaled, y_train)\n",
    "\n",
    "best_logistic_params = lasso_gridsearch.best_params_\n",
    "train_accuracy = lasso_gridsearch.score(X_train_scaled, y_train)\n",
    "test_accuracy = lasso_gridsearch.score(X_test_scaled, y_test)\n",
    "\n",
    "print(\"Best Logistic Regression Parameters:\", best_logistic_params)\n",
    "print(f\"Training-Set Accuracy Score: {train_accuracy:.4f}\")\n",
    "print(f\"Test-Set Accuracy Score: {test_accuracy:.4f}\")"
   ]
  },
  {
   "attachments": {},
   "cell_type": "markdown",
   "metadata": {},
   "source": [
    "### ** Optional: RandomForest Classifier — In the interest of my own practice, I experimented with randomforest, which is regarded as the most accurate. Its accuracy score appears to be greater than that of the KNN classifier model, which is the superior model among the four preceding ones, as expected. Nevertheless, please note that I will not include this for the further questions for this exam!"
   ]
  },
  {
   "cell_type": "code",
   "execution_count": 341,
   "metadata": {},
   "outputs": [
    {
     "name": "stdout",
     "output_type": "stream",
     "text": [
      "Test-Set Accuracy Score: 0.8491\n"
     ]
    }
   ],
   "source": [
    "from sklearn.ensemble import RandomForestClassifier\n",
    "from sklearn.model_selection import GridSearchCV\n",
    "\n",
    "randomforest = RandomForestClassifier()\n",
    "\n",
    "randomforest.fit(X_train_scaled, y_train)\n",
    "\n",
    "y_pred = randomforest.predict(X_test_scaled)\n",
    "\n",
    "# Evaluate the model's accuracy on the test dataset\n",
    "accuracy = accuracy_score(y_test, y_pred)\n",
    "\n",
    "print(f\"Test-Set Accuracy Score: {accuracy:.4f}\")"
   ]
  },
  {
   "cell_type": "code",
   "execution_count": 342,
   "metadata": {},
   "outputs": [
    {
     "name": "stdout",
     "output_type": "stream",
     "text": [
      "Best Logistic Regression Parameters: {'max_depth': 10, 'min_samples_leaf': 4, 'min_samples_split': 10, 'n_estimators': 100}\n",
      "Training-Set Accuracy Score: 0.8810\n",
      "Test-Set Accuracy Score: 0.8523\n"
     ]
    }
   ],
   "source": [
    "# Create the Random Forest classifier\n",
    "random_forest_classifier = RandomForestClassifier()\n",
    "\n",
    "# Define the parameter grid for grid search\n",
    "param_grid = {\n",
    "    'n_estimators': [50, 100, 150],  # Number of trees in the forest\n",
    "    'max_depth': [None, 10, 20, 30],  # Maximum depth of the trees\n",
    "    'min_samples_split': [2, 5, 10],  # Minimum number of samples required to split a node\n",
    "    'min_samples_leaf': [1, 2, 4],  # Minimum number of samples required at a leaf node\n",
    "}\n",
    "\n",
    "# Create the GridSearchCV object\n",
    "\n",
    "kf = KFold(n_splits=5)\n",
    "\n",
    "grid_search = GridSearchCV(estimator=random_forest_classifier, param_grid=param_grid, cv=kf, scoring = 'accuracy')\n",
    "\n",
    "grid_search.fit(X_train_scaled, y_train)\n",
    "\n",
    "best_logistic_params = grid_search.best_params_\n",
    "train_accuracy = grid_search.score(X_train_scaled, y_train)\n",
    "test_accuracy = grid_search.score(X_test_scaled, y_test)\n",
    "\n",
    "print(\"Best Logistic Regression Parameters:\", best_logistic_params)\n",
    "print(f\"Training-Set Accuracy Score: {train_accuracy:.4f}\")\n",
    "print(f\"Test-Set Accuracy Score: {test_accuracy:.4f}\")"
   ]
  },
  {
   "attachments": {},
   "cell_type": "markdown",
   "metadata": {},
   "source": [
    "## 12. Now rerun your best model from questions 8 through 11, but this time add three new variables to the model that you think will increase prediction accuracy.   Did this model predict test data better than your previous models? \n",
    "\n",
    "### Best Model: KNN Classifier"
   ]
  },
  {
   "attachments": {},
   "cell_type": "markdown",
   "metadata": {},
   "source": [
    "- ### To possibly improve my model, I included three additional independent variables: ['word_freq_credit:', 'word_freq_money:', 'char_freq_$:']. My intuition regarding this selection was based on the notion that the majority of spam emails might contain financial-related information, given that their primary objective might be to solicit payment from recipients. The inclusion of the percentage of occurrences of words such as \"money,\" \"credit,\" and the symbol \"$\" representing the currency may appear appropriate in this regard.\n",
    "\n",
    "- ### I chose to use the KNN Classifier as my model, as its accuracy score derived from gridsearchCV was the highest among the four models. By incorporating the three additional features to the model, there has been apparently a change in the parameter from the previous n_neighbor of 15 to 9. Then, the accuracy score has increased from 0.8512 to 0.8914, providing further evidence that the model now outperforms my previous model in predicting test data. "
   ]
  },
  {
   "cell_type": "code",
   "execution_count": 343,
   "metadata": {},
   "outputs": [],
   "source": [
    "X = data.loc[:, ['word_freq_remove:', 'word_freq_free:', 'char_freq_!:', 'word_freq_money:', \n",
    "                 'word_freq_credit:', 'char_freq_$:']]\n",
    "y = data['spam']\n",
    "X_train, X_test, y_train, y_test = train_test_split(X, y, test_size=0.2, random_state=42)\n",
    "\n",
    "scaler = preprocessing.StandardScaler()\n",
    "X_train_scaled = scaler.fit_transform(X_train)\n",
    "X_test_scaled = scaler.transform(X_test)"
   ]
  },
  {
   "cell_type": "code",
   "execution_count": 345,
   "metadata": {},
   "outputs": [
    {
     "name": "stdout",
     "output_type": "stream",
     "text": [
      "Best Logistic Regression Parameters: {'n_neighbors': 9}\n",
      "Training-Set Accuracy Score: 0.9079\n",
      "Test-Set Accuracy Score: 0.8914\n"
     ]
    }
   ],
   "source": [
    "knn_param_grid = {\n",
    "    'n_neighbors': [1, 3, 5, 7, 9, 11, 13, 15]\n",
    "}\n",
    "\n",
    "kf = KFold(n_splits=5)\n",
    "# stratified_cv = StratifiedKFold(n_splits=5, shuffle=True, random_state=42)\n",
    "\n",
    "knn_grid_search = GridSearchCV(knn_classifier, knn_param_grid, cv=kf, scoring='accuracy')\n",
    "\n",
    "knn_grid_search.fit(X_train_scaled, y_train)\n",
    "\n",
    "best_knn_params = knn_grid_search.best_params_\n",
    "train_accuracy = knn_grid_search.score(X_train_scaled, y_train)\n",
    "test_accuracy = knn_grid_search.score(X_test_scaled, y_test)\n",
    "\n",
    "print(\"Best Logistic Regression Parameters:\", best_knn_params)\n",
    "print(f\"Training-Set Accuracy Score: {train_accuracy:.4f}\")\n",
    "print(f\"Test-Set Accuracy Score: {test_accuracy:.4f}\")"
   ]
  },
  {
   "attachments": {},
   "cell_type": "markdown",
   "metadata": {},
   "source": [
    "## 13. Rerun all your other models with this final set of six variables, evaluate prediction error, and choose a final model.  Why did you select this model among all of the models that you ran?  "
   ]
  },
  {
   "attachments": {},
   "cell_type": "markdown",
   "metadata": {},
   "source": [
    "\n",
    "- ### Starting with the KNN Classifier, which exhibited the best accuracy score before including the three additional variables, the remaining models, such as unpenalized logistic regression, Ridge-penalized, and Lasso-penalized, have also observed an increase in their accuracy scores ranging from 0.85 to 0.88. However, similar to how I decided to choose the KNN classifier with only three variables, this time I am once again choosing the KNN Classifier to be the best model, as its accuracy score of 0.8914 is greater than that of the other three."
   ]
  },
  {
   "attachments": {},
   "cell_type": "markdown",
   "metadata": {},
   "source": [
    "### Unpenalized Logistic Regression "
   ]
  },
  {
   "cell_type": "code",
   "execution_count": 346,
   "metadata": {},
   "outputs": [
    {
     "name": "stdout",
     "output_type": "stream",
     "text": [
      "Best Logistic Regression Parameters: {'class_weight': 'balanced', 'max_iter': 100}\n",
      "Training-Set Accuracy Score: 0.8772\n",
      "Test-Set Accuracy Score: 0.8838\n"
     ]
    }
   ],
   "source": [
    "logistic_param_grid = {\n",
    "    'max_iter': [100, 1000, 10000, 100000],\n",
    "    'class_weight': [None, 'balanced']\n",
    "}\n",
    "\n",
    "logistic_regression = LogisticRegression(penalty=None)\n",
    "\n",
    "kf = KFold(n_splits=5)\n",
    "\n",
    "logistic_grid_search = GridSearchCV(logistic_regression, logistic_param_grid, cv=kf, scoring='accuracy')\n",
    "\n",
    "logistic_grid_search.fit(X_train_scaled, y_train)\n",
    "\n",
    "best_logistic_params = logistic_grid_search.best_params_\n",
    "train_accuracy = logistic_grid_search.score(X_train_scaled, y_train)\n",
    "test_accuracy = logistic_grid_search.score(X_test_scaled, y_test)\n",
    "\n",
    "print(\"Best Logistic Regression Parameters:\", best_logistic_params)\n",
    "print(f\"Training-Set Accuracy Score: {train_accuracy:.4f}\")\n",
    "print(f\"Test-Set Accuracy Score: {test_accuracy:.4f}\")"
   ]
  },
  {
   "attachments": {},
   "cell_type": "markdown",
   "metadata": {},
   "source": [
    "### Ridge"
   ]
  },
  {
   "cell_type": "code",
   "execution_count": 347,
   "metadata": {},
   "outputs": [
    {
     "name": "stdout",
     "output_type": "stream",
     "text": [
      "Best Logistic Regression Parameters: {'C': 10, 'class_weight': 'balanced', 'max_iter': 100, 'solver': 'lbfgs'}\n",
      "Training-Set Accuracy Score: 0.8774\n",
      "Test-Set Accuracy Score: 0.8838\n"
     ]
    }
   ],
   "source": [
    "penalized_logistic_param_grid = {\n",
    "    'C': [0.001, 0.01, 0.1, 1, 10, 100],\n",
    "    'max_iter': [100, 1000, 10000, 100000],\n",
    "    'solver': ['lbfgs', 'newton-cg'],\n",
    "    'class_weight': [None, 'balanced']\n",
    "}\n",
    "\n",
    "ridge = LogisticRegression(penalty='l2')\n",
    "\n",
    "kf = KFold(n_splits=5)\n",
    "\n",
    "ridge_gridsearch = GridSearchCV(ridge, penalized_logistic_param_grid, cv=kf, scoring='accuracy')\n",
    "\n",
    "ridge_gridsearch.fit(X_train_scaled, y_train)\n",
    "\n",
    "best_logistic_params = ridge_gridsearch.best_params_\n",
    "train_accuracy = ridge_gridsearch.score(X_train_scaled, y_train)\n",
    "test_accuracy = ridge_gridsearch.score(X_test_scaled, y_test)\n",
    "\n",
    "print(\"Best Logistic Regression Parameters:\", best_logistic_params)\n",
    "print(f\"Training-Set Accuracy Score: {train_accuracy:.4f}\")\n",
    "print(f\"Test-Set Accuracy Score: {test_accuracy:.4f}\")"
   ]
  },
  {
   "attachments": {},
   "cell_type": "markdown",
   "metadata": {},
   "source": [
    "### Lasso"
   ]
  },
  {
   "cell_type": "code",
   "execution_count": 348,
   "metadata": {},
   "outputs": [
    {
     "name": "stdout",
     "output_type": "stream",
     "text": [
      "Best Logistic Regression Parameters: {'C': 10, 'class_weight': 'balanced', 'max_iter': 100}\n",
      "Training-Set Accuracy Score: 0.8772\n",
      "Test-Set Accuracy Score: 0.8838\n"
     ]
    }
   ],
   "source": [
    "penalized_logistic_param_grid = {\n",
    "    'C': [0.001, 0.01, 0.1, 1, 10, 100],\n",
    "    'max_iter': [100, 1000, 10000, 100000],\n",
    "    'class_weight': [None, 'balanced']\n",
    "}\n",
    "\n",
    "lasso = LogisticRegression(penalty='l1', solver='liblinear')\n",
    "\n",
    "kf = KFold(n_splits=5)\n",
    "\n",
    "lasso_gridsearch = GridSearchCV(lasso, penalized_logistic_param_grid, cv=kf, scoring='accuracy')\n",
    "\n",
    "lasso_gridsearch.fit(X_train_scaled, y_train)\n",
    "\n",
    "best_logistic_params = lasso_gridsearch.best_params_\n",
    "train_accuracy = lasso_gridsearch.score(X_train_scaled, y_train)\n",
    "test_accuracy = lasso_gridsearch.score(X_test_scaled, y_test)\n",
    "\n",
    "print(\"Best Logistic Regression Parameters:\", best_logistic_params)\n",
    "print(f\"Training-Set Accuracy Score: {train_accuracy:.4f}\")\n",
    "print(f\"Test-Set Accuracy Score: {test_accuracy:.4f}\")"
   ]
  },
  {
   "attachments": {},
   "cell_type": "markdown",
   "metadata": {},
   "source": [
    "## 14. What variable that currently is not in your model, if included, would be likely to increase your final model's predictive power?  For this answer try to speculate about a variable outside the variables available in the data that would improve you model.\n"
   ]
  },
  {
   "attachments": {},
   "cell_type": "markdown",
   "metadata": {},
   "source": [
    "- ### In addition to the six variables I selected, if we must consider the variable outside the dataset, I believe it would be useful to include the percentage of word \"clicks\" in the email body (\"word_freq_clicks/click:\"). It is evident that the majority of spam emails manipulate user behavior by encouraging recipients to \"click\" and either access the site or navigate to another site for additional information regarding the products or services being sold. This behavior is what determines whether an email is spam or not. \n",
    "\n",
    "- ### Additionally, if we are including one more variable within the dataset to increase the predicative power of the model, I believe that the variable \"word_freq_order:\" could potentially offer a significant indicator for determining the spam status of an email. The rationale for including \"word_freq_order:\" is that it has been observed that a significant number of spam emails contain persuasive language that urges the recipient to perform a specific action, such as purchasing a product or a service. An email containing the term \"order\" may imply an effort to convince the recipient to buy a product, place an order, or engage in another action of a similar nature. \n"
   ]
  },
  {
   "attachments": {},
   "cell_type": "markdown",
   "metadata": {},
   "source": [
    "## 15. Lastly, you have listed each of the models that we have learned to use to predict dependent variables like spam.  List each model we have focused on in class thus far that you could use to evaluate data with a continuous dependent variable.\n"
   ]
  },
  {
   "attachments": {},
   "cell_type": "markdown",
   "metadata": {},
   "source": [
    "- ### Unlike our prior models on classification, regression is the new task for models with continuous target variables. A variety of machine learning models are utilized to perform regression, including KNN regressor, linear regression (OLS), penalized regression (Ridge, Lasso), and random forest regressor. In contrast to accuracy scores or f-1 scores, the performance of these regression models is evaluated using the mean squared error (MSE), which quantifies the discrepancy between the predicted values and the actual target values. Furthermore, R-squared (R²) may also provide additional information regarding the percentage of variance that the model explains. As we move into the realm of regression modeling, our focus shifts towards minimizing the MSE and improving the model's ability to make accurate continuous predictions. "
   ]
  }
 ],
 "metadata": {
  "kernelspec": {
   "display_name": "Python 3",
   "language": "python",
   "name": "python3"
  },
  "language_info": {
   "codemirror_mode": {
    "name": "ipython",
    "version": 3
   },
   "file_extension": ".py",
   "mimetype": "text/x-python",
   "name": "python",
   "nbconvert_exporter": "python",
   "pygments_lexer": "ipython3",
   "version": "3.9.6"
  },
  "orig_nbformat": 4
 },
 "nbformat": 4,
 "nbformat_minor": 2
}
