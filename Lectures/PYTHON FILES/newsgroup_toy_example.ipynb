{
 "cells": [
  {
   "cell_type": "code",
   "execution_count": 1,
   "metadata": {},
   "outputs": [],
   "source": [
    "from sklearn.datasets import fetch_20newsgroups\n",
    "from sklearn.feature_extraction.text import TfidfVectorizer\n",
    "from sklearn.model_selection import train_test_split\n",
    "from sklearn.linear_model import LogisticRegression\n",
    "from sklearn.metrics import accuracy_score, classification_report"
   ]
  },
  {
   "cell_type": "code",
   "execution_count": 2,
   "metadata": {},
   "outputs": [],
   "source": [
    "newsgroups = fetch_20newsgroups(subset='all', remove=('headers', 'footers', 'quotes'))\n",
    "\n",
    "X_train, X_test, y_train, y_test = train_test_split(newsgroups.data, newsgroups.target, test_size=0.2, random_state=42)"
   ]
  },
  {
   "cell_type": "code",
   "execution_count": 3,
   "metadata": {},
   "outputs": [
    {
     "name": "stdout",
     "output_type": "stream",
     "text": [
      "Train len: 15076\n",
      "Test len: 3770\n",
      "Num Classes: 20\n"
     ]
    }
   ],
   "source": [
    "print(f\"Train len: {len(X_train)}\\nTest len: {len(X_test)}\")\n",
    "print(f\"Num Classes: {len(set(y_train))}\")"
   ]
  },
  {
   "cell_type": "code",
   "execution_count": 4,
   "metadata": {},
   "outputs": [
    {
     "name": "stdout",
     "output_type": "stream",
     "text": [
      "Accuracy: 0.69\n",
      "\n",
      "Classification Report:\n",
      "                           precision    recall  f1-score   support\n",
      "\n",
      "             alt.atheism       0.54      0.56      0.55       151\n",
      "           comp.graphics       0.64      0.64      0.64       202\n",
      " comp.os.ms-windows.misc       0.68      0.64      0.66       195\n",
      "comp.sys.ibm.pc.hardware       0.59      0.63      0.61       183\n",
      "   comp.sys.mac.hardware       0.78      0.67      0.72       205\n",
      "          comp.windows.x       0.79      0.75      0.77       215\n",
      "            misc.forsale       0.73      0.68      0.71       193\n",
      "               rec.autos       0.71      0.69      0.70       196\n",
      "         rec.motorcycles       0.42      0.73      0.53       168\n",
      "      rec.sport.baseball       0.80      0.82      0.81       211\n",
      "        rec.sport.hockey       0.95      0.86      0.90       198\n",
      "               sci.crypt       0.87      0.73      0.79       201\n",
      "         sci.electronics       0.59      0.63      0.61       202\n",
      "                 sci.med       0.75      0.82      0.79       194\n",
      "               sci.space       0.74      0.77      0.75       189\n",
      "  soc.religion.christian       0.67      0.75      0.71       202\n",
      "      talk.politics.guns       0.68      0.69      0.68       188\n",
      "   talk.politics.mideast       0.80      0.73      0.76       182\n",
      "      talk.politics.misc       0.58      0.60      0.59       159\n",
      "      talk.religion.misc       0.49      0.21      0.30       136\n",
      "\n",
      "                accuracy                           0.69      3770\n",
      "               macro avg       0.69      0.68      0.68      3770\n",
      "            weighted avg       0.70      0.69      0.69      3770\n",
      "\n"
     ]
    }
   ],
   "source": [
    "vectorizer = TfidfVectorizer(stop_words='english', max_features=5000)\n",
    "X_train_tfidf = vectorizer.fit_transform(X_train)\n",
    "X_test_tfidf = vectorizer.transform(X_test)\n",
    "\n",
    "model = LogisticRegression(max_iter=500)\n",
    "model.fit(X_train_tfidf, y_train)\n",
    "\n",
    "y_pred = model.predict(X_test_tfidf)\n",
    "\n",
    "accuracy = accuracy_score(y_test, y_pred)\n",
    "classification_rep = classification_report(y_test, y_pred, target_names=newsgroups.target_names)\n",
    "\n",
    "print(f\"Accuracy: {accuracy:.2f}\")\n",
    "print(\"\\nClassification Report:\\n\", classification_rep)"
   ]
  },
  {
   "cell_type": "code",
   "execution_count": 21,
   "metadata": {},
   "outputs": [
    {
     "name": "stdout",
     "output_type": "stream",
     "text": [
      "Top Words for alt.atheism: bible, morality, islam, bobby, islamic, atheist, religion, atheists, atheism, god\n",
      "Top Words for comp.graphics: siggraph, animation, file, format, computer, files, images, image, 3d, graphics\n",
      "Top Words for comp.os.ms-windows.misc: win3, manager, driver, ms, ax, win, cica, file, microsoft, windows\n",
      "Top Words for comp.sys.ibm.pc.hardware: 486, motherboard, monitors, ide, scsi, monitor, drive, pc, card, bios\n",
      "Top Words for comp.sys.mac.hardware: simms, se, macs, monitor, quadra, duo, centris, lc, apple, mac\n",
      "Top Words for comp.windows.x: display, widgets, sun, mit, widget, x11r5, xterm, server, window, motif\n",
      "Top Words for misc.forsale: looking, forsale, new, 00, condition, asking, sell, shipping, offer, sale\n",
      "Top Words for rec.autos: mustang, auto, gt, toyota, ford, oil, dealer, engine, cars, car\n",
      "Top Words for rec.motorcycles: chain, motorcycles, helmet, riding, bmw, motorcycle, ride, bikes, dod, bike\n",
      "Top Words for rec.sport.baseball: braves, ball, pitcher, players, games, cubs, game, team, year, baseball\n",
      "Top Words for rec.sport.hockey: playoffs, play, roger, playoff, season, games, nhl, team, game, hockey\n",
      "Top Words for sci.crypt: des, chip, pgp, security, crypto, government, nsa, key, encryption, clipper\n",
      "Top Words for sci.electronics: catalog, radio, wire, chip, motorola, tv, battery, voltage, electronics, circuit\n",
      "Top Words for sci.med: effect, health, treatment, pain, diet, photography, disease, msg, medical, doctor\n",
      "Top Words for sci.space: satellite, spacecraft, earth, launch, moon, nasa, sky, shuttle, orbit, space\n",
      "Top Words for soc.religion.christian: sin, faith, marriage, jesus, christianity, christ, christians, christian, church, god\n",
      "Top Words for talk.politics.guns: waco, bd, government, texas, atf, firearms, weapons, fbi, guns, gun\n",
      "Top Words for talk.politics.mideast: arabs, muslims, armenian, jewish, armenians, turkish, arab, jews, israeli, israel\n",
      "Top Words for talk.politics.misc: trial, drugs, homosexual, president, gay, batf, homosexuals, clinton, people, government\n",
      "Top Words for talk.religion.misc: fbi, religion, christians, objective, bible, koresh, jesus, kent, christian, god\n"
     ]
    }
   ],
   "source": [
    "import numpy as np\n",
    "import matplotlib.pyplot as plt\n",
    "\n",
    "def get_plot(n_words, category_coefficients, top_coefficients_indices, top_words, category):\n",
    "    plt.figure(figsize=(10, 5))\n",
    "    plt.barh(range(n_words), category_coefficients[top_coefficients_indices], align='center')\n",
    "    plt.yticks(range(n_words), top_words)\n",
    "    plt.xlabel('Coefficient Value')\n",
    "    plt.title(f'Top {n_words} Words for Category: {category}')\n",
    "    plt.show()\n",
    "\n",
    "def top_words_category(model, feature_names, categories, n_words=10):\n",
    "    coefficients = model.coef_\n",
    "\n",
    "    for i, category in enumerate(categories):\n",
    "        category_coefficients = coefficients[i]\n",
    "\n",
    "        top_coefficients_indices = np.argsort(category_coefficients)[-n_words:]\n",
    "\n",
    "        top_words = [feature_names[idx] for idx in top_coefficients_indices]\n",
    "\n",
    "        print(f\"Top Words for {category}: {', '.join(top_words)}\")\n",
    "\n",
    "        #Optionally plot bar chart for each category\n",
    "        #get_plot(n_words, category_coefficients, top_coefficients_indices, top_words, category)\n",
    "\n",
    "feature_names = np.array(vectorizer.get_feature_names_out())\n",
    "categories_to_visualize = newsgroups.target_names\n",
    "top_words_category(model, feature_names, categories_to_visualize, n_words=10)\n"
   ]
  },
  {
   "cell_type": "code",
   "execution_count": null,
   "metadata": {},
   "outputs": [],
   "source": []
  }
 ],
 "metadata": {
  "kernelspec": {
   "display_name": "torch2",
   "language": "python",
   "name": "python3"
  },
  "language_info": {
   "codemirror_mode": {
    "name": "ipython",
    "version": 3
   },
   "file_extension": ".py",
   "mimetype": "text/x-python",
   "name": "python",
   "nbconvert_exporter": "python",
   "pygments_lexer": "ipython3",
   "version": "3.9.6"
  }
 },
 "nbformat": 4,
 "nbformat_minor": 2
}
