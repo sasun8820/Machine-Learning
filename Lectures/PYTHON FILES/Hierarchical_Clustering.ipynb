{
  "cells": [
    {
      "attachments": {},
      "cell_type": "markdown",
      "metadata": {
        "id": "r0uKwZ0T8uE-"
      },
      "source": [
        "# Agglomerative Hierarchical Clustering"
      ]
    },
    {
      "attachments": {},
      "cell_type": "markdown",
      "metadata": {
        "id": "KGP3iqOR8uFC"
      },
      "source": [
        "# Organizing clusters as a hierarchical tree\n",
        "\n",
        "First we'll use scipy to build dendrograms to visualize models, then we'll do it with sklearn for cluster prediction."
      ]
    },
    {
      "cell_type": "code",
      "execution_count": 1,
      "metadata": {
        "colab": {
          "base_uri": "https://localhost:8080/",
          "height": 204
        },
        "id": "sxRmvzU88uFF",
        "outputId": "3305fb6f-5c3d-4d8f-f9bc-cb6917426a6b"
      },
      "outputs": [
        {
          "data": {
            "text/html": [
              "<div>\n",
              "<style scoped>\n",
              "    .dataframe tbody tr th:only-of-type {\n",
              "        vertical-align: middle;\n",
              "    }\n",
              "\n",
              "    .dataframe tbody tr th {\n",
              "        vertical-align: top;\n",
              "    }\n",
              "\n",
              "    .dataframe thead th {\n",
              "        text-align: right;\n",
              "    }\n",
              "</style>\n",
              "<table border=\"1\" class=\"dataframe\">\n",
              "  <thead>\n",
              "    <tr style=\"text-align: right;\">\n",
              "      <th></th>\n",
              "      <th>X</th>\n",
              "      <th>Y</th>\n",
              "      <th>Z</th>\n",
              "    </tr>\n",
              "  </thead>\n",
              "  <tbody>\n",
              "    <tr>\n",
              "      <th>ID_0</th>\n",
              "      <td>6.964692</td>\n",
              "      <td>2.861393</td>\n",
              "      <td>2.268515</td>\n",
              "    </tr>\n",
              "    <tr>\n",
              "      <th>ID_1</th>\n",
              "      <td>5.513148</td>\n",
              "      <td>7.194690</td>\n",
              "      <td>4.231065</td>\n",
              "    </tr>\n",
              "    <tr>\n",
              "      <th>ID_2</th>\n",
              "      <td>9.807642</td>\n",
              "      <td>6.848297</td>\n",
              "      <td>4.809319</td>\n",
              "    </tr>\n",
              "    <tr>\n",
              "      <th>ID_3</th>\n",
              "      <td>3.921175</td>\n",
              "      <td>3.431780</td>\n",
              "      <td>7.290497</td>\n",
              "    </tr>\n",
              "    <tr>\n",
              "      <th>ID_4</th>\n",
              "      <td>4.385722</td>\n",
              "      <td>0.596779</td>\n",
              "      <td>3.980443</td>\n",
              "    </tr>\n",
              "  </tbody>\n",
              "</table>\n",
              "</div>"
            ],
            "text/plain": [
              "             X         Y         Z\n",
              "ID_0  6.964692  2.861393  2.268515\n",
              "ID_1  5.513148  7.194690  4.231065\n",
              "ID_2  9.807642  6.848297  4.809319\n",
              "ID_3  3.921175  3.431780  7.290497\n",
              "ID_4  4.385722  0.596779  3.980443"
            ]
          },
          "execution_count": 1,
          "metadata": {},
          "output_type": "execute_result"
        }
      ],
      "source": [
        "\n",
        "# Build some data...\n",
        "\n",
        "import pandas as pd\n",
        "import numpy as np\n",
        "\n",
        "np.random.seed(123)\n",
        "\n",
        "variables = ['X', 'Y', 'Z']\n",
        "labels = ['ID_0', 'ID_1', 'ID_2', 'ID_3', 'ID_4']\n",
        "\n",
        "X = np.random.random_sample([5, 3])*10\n",
        "df = pd.DataFrame(X, columns=variables, index=labels)\n",
        "df"
      ]
    },
    {
      "attachments": {},
      "cell_type": "markdown",
      "metadata": {
        "id": "G2AFHpIp8uFW"
      },
      "source": [
        "## Performing hierarchical clustering on a distance matrix"
      ]
    },
    {
      "cell_type": "code",
      "execution_count": 3,
      "metadata": {
        "colab": {
          "base_uri": "https://localhost:8080/",
          "height": 204
        },
        "id": "ugFW6XZ68uFZ",
        "outputId": "ecb72502-fcb9-4290-fc14-b21b1daf61ee"
      },
      "outputs": [
        {
          "data": {
            "text/html": [
              "<div>\n",
              "<style scoped>\n",
              "    .dataframe tbody tr th:only-of-type {\n",
              "        vertical-align: middle;\n",
              "    }\n",
              "\n",
              "    .dataframe tbody tr th {\n",
              "        vertical-align: top;\n",
              "    }\n",
              "\n",
              "    .dataframe thead th {\n",
              "        text-align: right;\n",
              "    }\n",
              "</style>\n",
              "<table border=\"1\" class=\"dataframe\">\n",
              "  <thead>\n",
              "    <tr style=\"text-align: right;\">\n",
              "      <th></th>\n",
              "      <th>ID_0</th>\n",
              "      <th>ID_1</th>\n",
              "      <th>ID_2</th>\n",
              "      <th>ID_3</th>\n",
              "      <th>ID_4</th>\n",
              "    </tr>\n",
              "  </thead>\n",
              "  <tbody>\n",
              "    <tr>\n",
              "      <th>ID_0</th>\n",
              "      <td>0.000000</td>\n",
              "      <td>4.973534</td>\n",
              "      <td>5.516653</td>\n",
              "      <td>5.899885</td>\n",
              "      <td>3.835396</td>\n",
              "    </tr>\n",
              "    <tr>\n",
              "      <th>ID_1</th>\n",
              "      <td>4.973534</td>\n",
              "      <td>0.000000</td>\n",
              "      <td>4.347073</td>\n",
              "      <td>5.104311</td>\n",
              "      <td>6.698233</td>\n",
              "    </tr>\n",
              "    <tr>\n",
              "      <th>ID_2</th>\n",
              "      <td>5.516653</td>\n",
              "      <td>4.347073</td>\n",
              "      <td>0.000000</td>\n",
              "      <td>7.244262</td>\n",
              "      <td>8.316594</td>\n",
              "    </tr>\n",
              "    <tr>\n",
              "      <th>ID_3</th>\n",
              "      <td>5.899885</td>\n",
              "      <td>5.104311</td>\n",
              "      <td>7.244262</td>\n",
              "      <td>0.000000</td>\n",
              "      <td>4.382864</td>\n",
              "    </tr>\n",
              "    <tr>\n",
              "      <th>ID_4</th>\n",
              "      <td>3.835396</td>\n",
              "      <td>6.698233</td>\n",
              "      <td>8.316594</td>\n",
              "      <td>4.382864</td>\n",
              "      <td>0.000000</td>\n",
              "    </tr>\n",
              "  </tbody>\n",
              "</table>\n",
              "</div>"
            ],
            "text/plain": [
              "          ID_0      ID_1      ID_2      ID_3      ID_4\n",
              "ID_0  0.000000  4.973534  5.516653  5.899885  3.835396\n",
              "ID_1  4.973534  0.000000  4.347073  5.104311  6.698233\n",
              "ID_2  5.516653  4.347073  0.000000  7.244262  8.316594\n",
              "ID_3  5.899885  5.104311  7.244262  0.000000  4.382864\n",
              "ID_4  3.835396  6.698233  8.316594  4.382864  0.000000"
            ]
          },
          "execution_count": 3,
          "metadata": {},
          "output_type": "execute_result"
        }
      ],
      "source": [
        "from scipy.spatial.distance import pdist, squareform #import methods from scipy\n",
        "\n",
        "# squareform creates an adjacency matrix and pdist applies euclidean distance to each combo of observations\n",
        "row_dist = pd.DataFrame(squareform(pdist(df, metric='euclidean')),\n",
        "                        columns=labels,\n",
        "                        index=labels)\n",
        "row_dist"
      ]
    },
    {
      "attachments": {},
      "cell_type": "markdown",
      "metadata": {
        "id": "qbOVcOsK8uFj"
      },
      "source": [
        "We need to change the format though.  The above is just to demonstrate how to build an adjacency matrix.\n",
        "\n",
        "We can either pass a condensed distance matrix (upper trianguler) from the `pdist` function, or we can pass the \"original\" data array and define the `metric='euclidean'` argument in `linkage`. However, we should not pass the squareform distance matrix, which would yield different distance values although the overall clustering could be the same."
      ]
    },
    {
      "cell_type": "code",
      "execution_count": 1,
      "metadata": {
        "id": "xTYQwazo8uFl",
        "scrolled": true
      },
      "outputs": [
        {
          "ename": "NameError",
          "evalue": "name 'pdist' is not defined",
          "output_type": "error",
          "traceback": [
            "\u001b[0;31m---------------------------------------------------------------------------\u001b[0m",
            "\u001b[0;31mNameError\u001b[0m                                 Traceback (most recent call last)",
            "Cell \u001b[0;32mIn[1], line 4\u001b[0m\n\u001b[1;32m      1\u001b[0m \u001b[39m# 1. Use Condensed distance matrix\u001b[39;00m\n\u001b[1;32m      2\u001b[0m \u001b[39mfrom\u001b[39;00m \u001b[39mscipy\u001b[39;00m\u001b[39m.\u001b[39;00m\u001b[39mcluster\u001b[39;00m\u001b[39m.\u001b[39;00m\u001b[39mhierarchy\u001b[39;00m \u001b[39mimport\u001b[39;00m linkage\n\u001b[0;32m----> 4\u001b[0m row_clusters \u001b[39m=\u001b[39m linkage(pdist(df, metric\u001b[39m=\u001b[39m\u001b[39m'\u001b[39m\u001b[39meuclidean\u001b[39m\u001b[39m'\u001b[39m), method\u001b[39m=\u001b[39m\u001b[39m'\u001b[39m\u001b[39mcomplete\u001b[39m\u001b[39m'\u001b[39m) \u001b[39m# define distance metric and linkage for model\u001b[39;00m\n\u001b[1;32m      5\u001b[0m row_clusters\n\u001b[1;32m      6\u001b[0m \u001b[39m# row_clusters has meta-data we can use to visualize the HC fit with a dendrogram\u001b[39;00m\n",
            "\u001b[0;31mNameError\u001b[0m: name 'pdist' is not defined"
          ]
        }
      ],
      "source": [
        "# 1. Use Condensed distance matrix\n",
        "from scipy.cluster.hierarchy import linkage\n",
        "\n",
        "row_clusters = linkage(pdist(df, metric='euclidean'), method='complete') # define distance metric and linkage for model\n",
        "row_clusters\n",
        "# row_clusters has meta-data we can use to visualize the HC fit with a dendrogram"
      ]
    },
    {
      "cell_type": "code",
      "execution_count": 6,
      "metadata": {
        "colab": {
          "base_uri": "https://localhost:8080/"
        },
        "id": "V9vzoINo8uFv",
        "outputId": "22f842ce-01de-4f23-81d4-73fd569b9f73"
      },
      "outputs": [
        {
          "name": "stdout",
          "output_type": "stream",
          "text": [
            "[[6.96469186 2.86139335 2.26851454]\n",
            " [5.51314769 7.1946897  4.2310646 ]\n",
            " [9.80764198 6.84829739 4.80931901]\n",
            " [3.92117518 3.43178016 7.29049707]\n",
            " [4.38572245 0.59677897 3.98044255]]\n"
          ]
        },
        {
          "data": {
            "text/plain": [
              "array([[0.        , 4.        , 3.83539555, 2.        ],\n",
              "       [1.        , 2.        , 4.34707339, 2.        ],\n",
              "       [3.        , 5.        , 5.89988504, 3.        ],\n",
              "       [6.        , 7.        , 8.31659367, 5.        ]])"
            ]
          },
          "execution_count": 6,
          "metadata": {},
          "output_type": "execute_result"
        }
      ],
      "source": [
        "# 2. Or use input sample matrix\n",
        "\n",
        "print(df.values) # values returns the X data without column labels or index\n",
        "\n",
        "row_clusters = linkage(df.values, method='complete', metric='euclidean')\n",
        "\n",
        "#the row clusters object is the same as above."
      ]
    },
    {
      "attachments": {},
      "cell_type": "markdown",
      "metadata": {
        "id": "x0bgqvAw8uF7"
      },
      "source": [
        "## Use scipy cluster object to build dendrogram"
      ]
    },
    {
      "cell_type": "code",
      "execution_count": 8,
      "metadata": {
        "colab": {
          "base_uri": "https://localhost:8080/",
          "height": 487
        },
        "id": "MULEE3ys8uF9",
        "outputId": "d3c77213-8a24-4077-fe67-8039fb91f76f"
      },
      "outputs": [
        {
          "data": {
            "image/png": "[encoded data removed]",
            "text/plain": [
              "<Figure size 640x480 with 1 Axes>"
            ]
          },
          "metadata": {},
          "output_type": "display_data"
        }
      ],
      "source": [
        "from scipy.cluster.hierarchy import dendrogram\n",
        "import matplotlib.pyplot as plt\n",
        "# make dendrogram black (part 1/2)\n",
        "# from scipy.cluster.hierarchy import set_link_color_palette\n",
        "# set_link_color_palette(['black'])\n",
        "\n",
        "row_dendr = dendrogram(row_clusters,\n",
        "                       labels=labels,\n",
        "                       # make dendrogram black (part 2/2)\n",
        "                       # color_threshold=np.inf\n",
        "                       )\n",
        "plt.tight_layout()\n",
        "plt.ylabel('Euclidean distance')\n",
        "#plt.savefig('./figures/dendrogram.png', dpi=300,\n",
        "#            bbox_inches='tight')\n",
        "plt.show()"
      ]
    },
    {
      "attachments": {},
      "cell_type": "markdown",
      "metadata": {
        "id": "soFVg2xC8uGI"
      },
      "source": [
        "## Attaching dendrograms to a heat map"
      ]
    },
    {
      "cell_type": "code",
      "execution_count": 9,
      "metadata": {
        "colab": {
          "base_uri": "https://localhost:8080/",
          "height": 613
        },
        "id": "bRvMFO2t8uGL",
        "outputId": "30eda184-fb85-4b57-a5a2-d1a65a4e8e0d"
      },
      "outputs": [
        {
          "name": "stderr",
          "output_type": "stream",
          "text": [
            "<ipython-input-9-a9c5f19f9ba6>:22: UserWarning: FixedFormatter should only be used together with FixedLocator\n",
            "  axm.set_xticklabels([''] + list(df_rowclust.columns))\n",
            "<ipython-input-9-a9c5f19f9ba6>:23: UserWarning: FixedFormatter should only be used together with FixedLocator\n",
            "  axm.set_yticklabels([''] + list(df_rowclust.index))\n"
          ]
        },
        {
          "data": {
            "image/png": "[encoded data removed]",
            "text/plain": [
              "<Figure size 800x800 with 3 Axes>"
            ]
          },
          "metadata": {},
          "output_type": "display_data"
        }
      ],
      "source": [
        "# plot row dendrogram\n",
        "fig = plt.figure(figsize=(8, 8), facecolor='white')\n",
        "axd = fig.add_axes([0.09, 0.1, 0.2, 0.6])\n",
        "\n",
        "# note: for matplotlib < v1.5.1, please use orientation='right'\n",
        "row_dendr = dendrogram(row_clusters, orientation='left')\n",
        "\n",
        "# reorder data with respect to clustering\n",
        "df_rowclust = df.iloc[row_dendr['leaves'][::-1]]\n",
        "\n",
        "axd.set_xticks([])\n",
        "axd.set_yticks([])\n",
        "\n",
        "# remove axes spines from dendrogram\n",
        "for i in axd.spines.values():\n",
        "        i.set_visible(False)\n",
        "\n",
        "# plot heatmap\n",
        "axm = fig.add_axes([0.23, 0.1, 0.6, 0.6])  # x-pos, y-pos, width, height\n",
        "cax = axm.matshow(df_rowclust, interpolation='nearest', cmap='hot_r')\n",
        "fig.colorbar(cax)\n",
        "axm.set_xticklabels([''] + list(df_rowclust.columns))\n",
        "axm.set_yticklabels([''] + list(df_rowclust.index))\n",
        "\n",
        "# plt.savefig('./figures/heatmap.png', dpi=300)\n",
        "plt.show()"
      ]
    },
    {
      "attachments": {},
      "cell_type": "markdown",
      "metadata": {
        "id": "92HY_X1A8uGb"
      },
      "source": [
        "<br>"
      ]
    },
    {
      "attachments": {},
      "cell_type": "markdown",
      "metadata": {
        "id": "VWc955Ov8uGc"
      },
      "source": [
        "## Applying agglomerative clustering via scikit-learn"
      ]
    },
    {
      "cell_type": "code",
      "execution_count": 7,
      "metadata": {
        "colab": {
          "base_uri": "https://localhost:8080/"
        },
        "id": "SCYSXRO18uGe",
        "outputId": "f76d6ee1-886b-4830-b8b5-fc446884fe97"
      },
      "outputs": [
        {
          "name": "stdout",
          "output_type": "stream",
          "text": [
            "[1 0 0 2 1]\n"
          ]
        },
        {
          "name": "stderr",
          "output_type": "stream",
          "text": [
            "/Users/jeonseo/Library/Python/3.9/lib/python/site-packages/sklearn/cluster/_agglomerative.py:983: FutureWarning: Attribute `affinity` was deprecated in version 1.2 and will be removed in 1.4. Use `metric` instead\n",
            "  warnings.warn(\n"
          ]
        }
      ],
      "source": [
        "from sklearn.cluster import AgglomerativeClustering\n",
        "\n",
        "ac = AgglomerativeClustering(n_clusters=3,   # note that we select the clusters\n",
        "                             affinity='euclidean',\n",
        "                             linkage='complete')\n",
        "labels = ac.fit_predict(X)    # extract cluster labels for each observation in data\n",
        "print(labels)"
      ]
    },
    {
      "attachments": {},
      "cell_type": "markdown",
      "metadata": {
        "id": "TUFok9NT8uGs"
      },
      "source": [
        "<br>\n",
        "<br>"
      ]
    },
    {
      "cell_type": "code",
      "execution_count": 10,
      "metadata": {
        "colab": {
          "base_uri": "https://localhost:8080/",
          "height": 487
        },
        "id": "1_gBV23j8uGu",
        "outputId": "19d91f94-58a5-4a24-da08-041ce8eae939"
      },
      "outputs": [
        {
          "data": {
            "image/png": "[encoded data removed]",
            "text/plain": [
              "<Figure size 640x480 with 1 Axes>"
            ]
          },
          "metadata": {},
          "output_type": "display_data"
        }
      ],
      "source": [
        "# Make some example data...\n",
        "\n",
        "from sklearn.datasets import make_blobs\n",
        "\n",
        "X, y_true = make_blobs(n_samples=300, centers=4,\n",
        "                       cluster_std=0.60, random_state=0)\n",
        "\n",
        "plt.scatter(X[:, 0], X[:, 1])\n",
        "plt.tight_layout()\n",
        "\n",
        "plt.show()"
      ]
    },
    {
      "attachments": {},
      "cell_type": "markdown",
      "metadata": {
        "id": "LpiXJoa_8uG4"
      },
      "source": [
        "K-means and hierarchical clustering:"
      ]
    },
    {
      "cell_type": "code",
      "execution_count": 14,
      "metadata": {
        "colab": {
          "base_uri": "https://localhost:8080/",
          "height": 395
        },
        "id": "rP3-OGCB8uG5",
        "outputId": "ff2c35ec-b10b-4fc7-b133-84316904b5d6"
      },
      "outputs": [
        {
          "name": "stderr",
          "output_type": "stream",
          "text": [
            "/Users/jeonseo/Library/Python/3.9/lib/python/site-packages/sklearn/cluster/_kmeans.py:870: FutureWarning: The default value of `n_init` will change from 10 to 'auto' in 1.4. Set the value of `n_init` explicitly to suppress the warning\n",
            "  warnings.warn(\n",
            "/Users/jeonseo/Library/Python/3.9/lib/python/site-packages/sklearn/cluster/_agglomerative.py:983: FutureWarning: Attribute `affinity` was deprecated in version 1.2 and will be removed in 1.4. Use `metric` instead\n",
            "  warnings.warn(\n"
          ]
        },
        {
          "data": {
            "image/png": "[encoded data removed]",
            "text/plain": [
              "<Figure size 800x300 with 2 Axes>"
            ]
          },
          "metadata": {},
          "output_type": "display_data"
        }
      ],
      "source": [
        "from sklearn.cluster import KMeans\n",
        "\n",
        "f, (ax1, ax2) = plt.subplots(1, 2, figsize=(8, 3))\n",
        "\n",
        "km = KMeans(n_clusters=2, random_state=0)\n",
        "y_km = km.fit_predict(X)\n",
        "ax1.scatter(X[y_km == 0, 0], X[y_km == 0, 1], # first and second columns when the datapoints of y_km == 0 (Cluster 0: First feature and Second feature)\n",
        "            c='lightblue', marker='o', s=40, label='cluster 1')\n",
        "ax1.scatter(X[y_km == 1, 0], X[y_km == 1, 1], # first and second columns when the datapoints of y_km == 1 (Cluster 1: First feature and Second feature)\n",
        "            c='red', marker='s', s=40, label='cluster 2')\n",
        "ax1.set_title('K-means clustering')\n",
        "\n",
        "ac = AgglomerativeClustering(n_clusters=2,\n",
        "                             affinity='euclidean',\n",
        "                             linkage='complete')\n",
        "y_ac = ac.fit_predict(X)\n",
        "ax2.scatter(X[y_ac == 0, 0], X[y_ac == 0, 1], c='lightblue',\n",
        "            marker='o', s=40, label='cluster 1')\n",
        "ax2.scatter(X[y_ac == 1, 0], X[y_ac == 1, 1], c='red',\n",
        "            marker='s', s=40, label='cluster 2')\n",
        "ax2.set_title('Agglomerative clustering')\n",
        "\n",
        "plt.legend()\n",
        "plt.tight_layout()\n",
        "#plt.savefig('./figures/kmeans_and_ac.png', dpi=300)\n",
        "plt.show()"
      ]
    },
    {
      "cell_type": "code",
      "execution_count": null,
      "metadata": {},
      "outputs": [],
      "source": []
    }
  ],
  "metadata": {
    "anaconda-cloud": {},
    "colab": {
      "provenance": []
    },
    "kernelspec": {
      "display_name": "Python 3",
      "language": "python",
      "name": "python3"
    },
    "language_info": {
      "codemirror_mode": {
        "name": "ipython",
        "version": 3
      },
      "file_extension": ".py",
      "mimetype": "text/x-python",
      "name": "python",
      "nbconvert_exporter": "python",
      "pygments_lexer": "ipython3",
      "version": "3.9.6"
    }
  },
  "nbformat": 4,
  "nbformat_minor": 0
}
